{
 "cells": [
  {
   "cell_type": "markdown",
   "metadata": {
    "button": false,
    "new_sheet": false,
    "run_control": {
     "read_only": false
    }
   },
   "source": [
    "<a href=\"https://www.cognitiveclass.ai\"><img src = \"https://cognitiveclass.ai/wp-content/themes/bdu3.0/static/images/cc-logo.png\" align = left></a>\n",
    "\n",
    "<br>\n",
    "<br>\n",
    "\n",
    "--------------------\n",
    "# SETI CNN using TF and Binary DS"
   ]
  },
  {
   "cell_type": "code",
   "execution_count": 1,
   "metadata": {
    "button": false,
    "collapsed": true,
    "new_sheet": false,
    "run_control": {
     "read_only": false
    }
   },
   "outputs": [],
   "source": [
    "import sys\n",
    "sys.path.insert(0, \"/opt/DL/tensorflow/lib/python2.7/site-packages/\")\n",
    "import requests\n",
    "import json\n",
    "#import ibmseti\n",
    "import numpy as np\n",
    "import matplotlib.pyplot as plt\n",
    "%matplotlib inline\n",
    "import tensorflow as tf\n",
    "import pickle\n",
    "import time\n",
    "#!sudo pip install sklearn\n",
    "import os\n",
    "from sklearn.metrics import confusion_matrix\n",
    "from sklearn import metrics"
   ]
  },
  {
   "cell_type": "markdown",
   "metadata": {},
   "source": [
    "### Set your team folder"
   ]
  },
  {
   "cell_type": "code",
   "execution_count": 2,
   "metadata": {},
   "outputs": [
    {
     "name": "stdout",
     "output_type": "stream",
     "text": [
      "/home/fbarilla/SETI/ML4SETI/tutorials/p9_launch\n"
     ]
    }
   ],
   "source": [
    "### SET YOUR TEAM NAME HERE! Use this folder to save intermediate results\n",
    "team_name = 'p9_launch'\n",
    "mydatafolder = os.path.join( os.environ['PWD'], team_name )  #Change my_data_folder to your team name\n",
    "if os.path.exists(mydatafolder) is False:\n",
    "    os.makedirs(mydatafolder)\n",
    "print mydatafolder"
   ]
  },
  {
   "cell_type": "markdown",
   "metadata": {
    "button": false,
    "new_sheet": false,
    "run_control": {
     "read_only": false
    }
   },
   "source": [
    "### Import dataset reader\n",
    "The following cell will load a python code to read the SETI dataset."
   ]
  },
  {
   "cell_type": "code",
   "execution_count": 3,
   "metadata": {
    "button": false,
    "new_sheet": false,
    "run_control": {
     "read_only": false
    }
   },
   "outputs": [
    {
     "name": "stdout",
     "output_type": "stream",
     "text": [
      "--2017-08-02 14:15:19--  https://ibm.box.com/shared/static/jhqdhcblhua5dx2t7ixwm88okitjrl6l.zip\n",
      "Resolving ibm.box.com (ibm.box.com)... 107.152.26.197, 107.152.27.197\n",
      "Connecting to ibm.box.com (ibm.box.com)|107.152.26.197|:443... connected.\n",
      "HTTP request sent, awaiting response... 301 Moved Permanently\n",
      "Location: https://ibm.ent.box.com/shared/static/jhqdhcblhua5dx2t7ixwm88okitjrl6l.zip [following]\n",
      "--2017-08-02 14:15:20--  https://ibm.ent.box.com/shared/static/jhqdhcblhua5dx2t7ixwm88okitjrl6l.zip\n",
      "Resolving ibm.ent.box.com (ibm.ent.box.com)... 107.152.27.211, 107.152.26.211\n",
      "Connecting to ibm.ent.box.com (ibm.ent.box.com)|107.152.27.211|:443... connected.\n",
      "HTTP request sent, awaiting response... 302 Found\n",
      "Location: https://public.boxcloud.com/d/1/ulUOfb6R5z82NuJFWhri0SYW7hA4LBTE6j90q7qNE2qVR14gvO-lpA77groez0RFKA-a2etoVYtyIGCttNzNocBTCEQc_OO5-MXDMdggsniaH7KFthdIrtuZMZnjr_wLQF6h3h3yDf0s162jrwMOWPIEn44jepldG64m3cWkEOq_-oMlzaZYWeUgK-4YhOXD-HkJhzlzbt6-QBPB9b4eQgCFQbb2kYZd6W-C_VzpRdU3wO4lcXlO080yF1VcJ50s56XGKZHrsNuj4B7vC5325SD10GytnQzA0-eBK1YmomJMNcNMV2ManZqg5ygrcTClYqW18jaJo3XiIAGQquh9X6b_O3nD4T79ViE2KQ378liGSNg6OH9PzRpHp5sttMLhfK-Ock5EkKjI-AP8FsNhBxRmxPAkm4s_j18oejpmDbAmeyQUFwGjeHSW5fAG3mbtEeZjpc8yaUGZDsA8mOmvHgStzV88pJD-SPwfq6w84dQGpZmbhZa2s453zc_jzwfeA0Hn6FJ1zqwox8IDyr0losowVd6NpX1CHxl_ZfEdvnw1WnF3aSgGqLuyfVrdcs7nAJnBCLVmb72sYGvx5t4AA0lLtBH8NARf9VXe63YXtR9bdLIs1M87QL3Np-s0_HgWHhPN-QscjD3cXQSRtAK6KBHTIJsX-gqAWpfmLsbM7OfoJg5qKnDwZfpX4zNfi6xZ1-yTmsqa19VMGstytGkElf2AG26Lo8VBvJxNQjRw_4_c6LG0vweQBIE_BKWJKW_B4Wyj7xwIBtHmrVLJLhfZHHmH08YpTob2bvA8hgoQ21TdoeghhxH44xOAPtAezVyhFCYnEnIg2VOe58NypCxYaVTP4LCviVxq_1VTZQbVQwZropgGibSyajj-5rqSUwOU4GOrZzIpP_cT5skqjY2Rn58L62vNq3GiqCP1TqHWKz2MTEB_5MFxPEI1Tx8hX5VXGIXZcgQmNKLI8j03HBsRrIPaMvJT3h1GcSZWbD0APZUIpOvbZpqpYrrNOhgh72sbzOTtU54UcXpc0rK47uTl7Un1rMgSxo07cat26G2bkundl9yJtvqXPKL4A923ErymHhSvz4FVhhSsO6fAz3BG1LB4U9SM6QvbWegSKgd52y480LZKoS7KRNmg2avHU3o_2aSql_UEd2X_F8VMB2WjhcN9/download [following]\n",
      "--2017-08-02 14:15:20--  https://public.boxcloud.com/d/1/ulUOfb6R5z82NuJFWhri0SYW7hA4LBTE6j90q7qNE2qVR14gvO-lpA77groez0RFKA-a2etoVYtyIGCttNzNocBTCEQc_OO5-MXDMdggsniaH7KFthdIrtuZMZnjr_wLQF6h3h3yDf0s162jrwMOWPIEn44jepldG64m3cWkEOq_-oMlzaZYWeUgK-4YhOXD-HkJhzlzbt6-QBPB9b4eQgCFQbb2kYZd6W-C_VzpRdU3wO4lcXlO080yF1VcJ50s56XGKZHrsNuj4B7vC5325SD10GytnQzA0-eBK1YmomJMNcNMV2ManZqg5ygrcTClYqW18jaJo3XiIAGQquh9X6b_O3nD4T79ViE2KQ378liGSNg6OH9PzRpHp5sttMLhfK-Ock5EkKjI-AP8FsNhBxRmxPAkm4s_j18oejpmDbAmeyQUFwGjeHSW5fAG3mbtEeZjpc8yaUGZDsA8mOmvHgStzV88pJD-SPwfq6w84dQGpZmbhZa2s453zc_jzwfeA0Hn6FJ1zqwox8IDyr0losowVd6NpX1CHxl_ZfEdvnw1WnF3aSgGqLuyfVrdcs7nAJnBCLVmb72sYGvx5t4AA0lLtBH8NARf9VXe63YXtR9bdLIs1M87QL3Np-s0_HgWHhPN-QscjD3cXQSRtAK6KBHTIJsX-gqAWpfmLsbM7OfoJg5qKnDwZfpX4zNfi6xZ1-yTmsqa19VMGstytGkElf2AG26Lo8VBvJxNQjRw_4_c6LG0vweQBIE_BKWJKW_B4Wyj7xwIBtHmrVLJLhfZHHmH08YpTob2bvA8hgoQ21TdoeghhxH44xOAPtAezVyhFCYnEnIg2VOe58NypCxYaVTP4LCviVxq_1VTZQbVQwZropgGibSyajj-5rqSUwOU4GOrZzIpP_cT5skqjY2Rn58L62vNq3GiqCP1TqHWKz2MTEB_5MFxPEI1Tx8hX5VXGIXZcgQmNKLI8j03HBsRrIPaMvJT3h1GcSZWbD0APZUIpOvbZpqpYrrNOhgh72sbzOTtU54UcXpc0rK47uTl7Un1rMgSxo07cat26G2bkundl9yJtvqXPKL4A923ErymHhSvz4FVhhSsO6fAz3BG1LB4U9SM6QvbWegSKgd52y480LZKoS7KRNmg2avHU3o_2aSql_UEd2X_F8VMB2WjhcN9/download\n",
      "Resolving public.boxcloud.com (public.boxcloud.com)... 107.152.27.200, 107.152.26.200\n",
      "Connecting to public.boxcloud.com (public.boxcloud.com)|107.152.27.200|:443... connected.\n",
      "HTTP request sent, awaiting response... 200 OK\n",
      "Length: 3288 (3.2K) [application/zip]\n",
      "Saving to: ‘SETI.zip’\n",
      "\n",
      "SETI.zip            100%[===================>]   3.21K  --.-KB/s    in 0s      \n",
      "\n",
      "2017-08-02 14:15:21 (197 MB/s) - ‘SETI.zip’ saved [3288/3288]\n",
      "\n",
      "Archive:  SETI.zip\n",
      "  inflating: SETI.py                 \n",
      "  inflating: __MACOSX/._SETI.py      \n"
     ]
    }
   ],
   "source": [
    "!wget --output-document SETI.zip  https://ibm.box.com/shared/static/jhqdhcblhua5dx2t7ixwm88okitjrl6l.zip\n",
    "!unzip -o SETI.zip\n",
    "import SETI"
   ]
  },
  {
   "cell_type": "markdown",
   "metadata": {
    "button": false,
    "new_sheet": false,
    "run_control": {
     "read_only": false
    }
   },
   "source": [
    "### Download data"
   ]
  },
  {
   "cell_type": "code",
   "execution_count": 4,
   "metadata": {
    "button": false,
    "collapsed": true,
    "new_sheet": false,
    "run_control": {
     "read_only": false
    }
   },
   "outputs": [],
   "source": [
    "ds_directory = mydatafolder + '/SETI/SETI_ds_64x128/'\n"
   ]
  },
  {
   "cell_type": "code",
   "execution_count": 5,
   "metadata": {
    "button": false,
    "new_sheet": false,
    "run_control": {
     "read_only": false
    }
   },
   "outputs": [
    {
     "name": "stdout",
     "output_type": "stream",
     "text": [
      "total 19932\n",
      "-rw-r--r-- 1 root root      128 Aug  1 18:41 train-labels-idx1-ubyte.gz\n",
      "-rw-r--r-- 1 root root 14478040 Aug  1 18:41 train-images-idx3-ubyte.gz\n",
      "-rw-r--r-- 1 root root      112 Aug  1 18:41 test-labels-idx1-ubyte.gz\n",
      "-rw-r--r-- 1 root root  5921051 Aug  1 18:41 test-images-idx3-ubyte.gz\n",
      "\n"
     ]
    }
   ],
   "source": [
    "print os.popen(\"ls -lrt \"+ ds_directory).read() # to verify"
   ]
  },
  {
   "cell_type": "markdown",
   "metadata": {
    "button": false,
    "new_sheet": false,
    "run_control": {
     "read_only": false
    }
   },
   "source": [
    "### Load data SETI"
   ]
  },
  {
   "cell_type": "code",
   "execution_count": 6,
   "metadata": {
    "button": false,
    "new_sheet": false,
    "run_control": {
     "read_only": false
    },
    "scrolled": true
   },
   "outputs": [
    {
     "name": "stdout",
     "output_type": "stream",
     "text": [
      "Extracting /home/fbarilla/SETI/ML4SETI/tutorials/p9_launch/SETI/SETI_ds_64x128/train-images-idx3-ubyte.gz\n",
      "Extracting /home/fbarilla/SETI/ML4SETI/tutorials/p9_launch/SETI/SETI_ds_64x128/train-labels-idx1-ubyte.gz\n",
      "Extracting /home/fbarilla/SETI/ML4SETI/tutorials/p9_launch/SETI/SETI_ds_64x128/test-images-idx3-ubyte.gz\n",
      "Extracting /home/fbarilla/SETI/ML4SETI/tutorials/p9_launch/SETI/SETI_ds_64x128/test-labels-idx1-ubyte.gz\n"
     ]
    },
    {
     "data": {
      "text/plain": [
       "(2840, 8192)"
      ]
     },
     "execution_count": 6,
     "metadata": {},
     "output_type": "execute_result"
    }
   ],
   "source": [
    "#from tensorflow.examples.tutorials.mnist import input_data\n",
    "#dataset = input_data.read_data_sets(\"MNIST_data/\", one_hot=True)\n",
    "dataset = SETI.read_data_sets(ds_directory, one_hot=True, validation_size=0)\n",
    "dataset.train.images.shape"
   ]
  },
  {
   "cell_type": "markdown",
   "metadata": {
    "button": false,
    "new_sheet": false,
    "run_control": {
     "read_only": false
    }
   },
   "source": [
    "## Network Parameters"
   ]
  },
  {
   "cell_type": "code",
   "execution_count": 7,
   "metadata": {
    "button": false,
    "collapsed": true,
    "new_sheet": false,
    "run_control": {
     "read_only": false
    }
   },
   "outputs": [],
   "source": [
    "# Parameters\n",
    "decay_rate=0.96\n",
    "decay_steps=1000\n",
    "learning_rate = 0.005\n",
    "training_epochs = 200\n",
    "batch_size = 50\n",
    "display_step = 100\n",
    "\n",
    "#check point directory\n",
    "chk_directory = mydatafolder+'/save/'\n",
    "checkpoint_path = chk_directory+'model.ckpt'\n",
    "\n",
    "\n",
    "n_classes = 4 # number of possible classifications for the problem\n",
    "dropout = 0.50 # Dropout, probability to keep units\n",
    "\n",
    "height = 64 # height of the image in pixels \n",
    "width = 128 # width of the image in pixels \n",
    "n_input = width * height # number of pixels in one image \n"
   ]
  },
  {
   "cell_type": "markdown",
   "metadata": {
    "button": false,
    "new_sheet": false,
    "run_control": {
     "read_only": false
    }
   },
   "source": [
    "### Inputs"
   ]
  },
  {
   "cell_type": "code",
   "execution_count": 8,
   "metadata": {
    "button": false,
    "collapsed": true,
    "new_sheet": false,
    "run_control": {
     "read_only": false
    }
   },
   "outputs": [],
   "source": [
    "x  = tf.placeholder(tf.float32, shape=[None, n_input])\n",
    "y_ = tf.placeholder(tf.float32, shape=[None, n_classes])"
   ]
  },
  {
   "cell_type": "code",
   "execution_count": 9,
   "metadata": {
    "button": false,
    "new_sheet": false,
    "run_control": {
     "read_only": false
    }
   },
   "outputs": [
    {
     "data": {
      "text/plain": [
       "<tf.Tensor 'Reshape:0' shape=(?, 64, 128, 1) dtype=float32>"
      ]
     },
     "execution_count": 9,
     "metadata": {},
     "output_type": "execute_result"
    }
   ],
   "source": [
    "x_image = tf.reshape(x, [-1,height,width,1]) \n",
    "x_image"
   ]
  },
  {
   "cell_type": "markdown",
   "metadata": {
    "button": false,
    "new_sheet": false,
    "run_control": {
     "read_only": false
    }
   },
   "source": [
    "#### Convolutional Layer 1"
   ]
  },
  {
   "cell_type": "code",
   "execution_count": 10,
   "metadata": {
    "button": false,
    "new_sheet": false,
    "run_control": {
     "read_only": false
    }
   },
   "outputs": [
    {
     "data": {
      "text/plain": [
       "<tf.Tensor 'MaxPool:0' shape=(?, 32, 64, 32) dtype=float32>"
      ]
     },
     "execution_count": 10,
     "metadata": {},
     "output_type": "execute_result"
    }
   ],
   "source": [
    "W_conv1 = tf.Variable(tf.truncated_normal([5, 5, 1, 32], stddev=0.1))\n",
    "b_conv1 = tf.Variable(tf.constant(0.1, shape=[32])) # need 32 biases for 32 outputs\n",
    "convolve1 = tf.nn.conv2d(x_image, W_conv1, strides=[1, 1, 1, 1], padding='SAME') + b_conv1\n",
    "h_conv1 = tf.nn.relu(convolve1)\n",
    "conv1 = tf.nn.max_pool(h_conv1, ksize=[1, 2, 2, 1], strides=[1, 2, 2, 1], padding='SAME') #max_pool_2x2\n",
    "conv1"
   ]
  },
  {
   "cell_type": "markdown",
   "metadata": {
    "button": false,
    "new_sheet": false,
    "run_control": {
     "read_only": false
    }
   },
   "source": [
    "#### Convolutional Layer 2"
   ]
  },
  {
   "cell_type": "code",
   "execution_count": 11,
   "metadata": {
    "button": false,
    "new_sheet": false,
    "run_control": {
     "read_only": false
    }
   },
   "outputs": [
    {
     "data": {
      "text/plain": [
       "<tf.Tensor 'MaxPool_1:0' shape=(?, 8, 16, 64) dtype=float32>"
      ]
     },
     "execution_count": 11,
     "metadata": {},
     "output_type": "execute_result"
    }
   ],
   "source": [
    "W_conv2 = tf.Variable(tf.truncated_normal([5, 5, 32, 64], stddev=0.1))\n",
    "b_conv2 = tf.Variable(tf.constant(0.1, shape=[64])) #need 64 biases for 64 outputs\n",
    "convolve2= tf.nn.conv2d(conv1, W_conv2, strides=[1, 1, 1, 1], padding='SAME')+ b_conv2\n",
    "h_conv2 = tf.nn.relu(convolve2)\n",
    "conv2 = tf.nn.max_pool(h_conv2, ksize=[1, 2, 2, 1], strides=[1, 4, 4, 1], padding='SAME') #max_pool_2x2\n",
    "conv2"
   ]
  },
  {
   "cell_type": "markdown",
   "metadata": {
    "button": false,
    "new_sheet": false,
    "run_control": {
     "read_only": false
    }
   },
   "source": [
    "#### Convolutional Layer 3"
   ]
  },
  {
   "cell_type": "raw",
   "metadata": {
    "button": false,
    "new_sheet": false,
    "run_control": {
     "read_only": false
    }
   },
   "source": [
    "W_conv3 = tf.Variable(tf.truncated_normal([5, 5, 64, 128], stddev=0.1))\n",
    "b_conv3 = tf.Variable(tf.constant(0.1, shape=[128])) #need 64 biases for 64 outputs\n",
    "convolve3= tf.nn.conv2d(conv2, W_conv3, strides=[1, 1, 1, 1], padding='SAME')+ b_conv3\n",
    "h_conv3 = tf.nn.relu(convolve3)\n",
    "conv3 = tf.nn.max_pool(h_conv3, ksize=[1, 2, 2, 1], strides=[1, 2, 2, 1], padding='SAME') #max_pool_2x2\n",
    "conv3"
   ]
  },
  {
   "cell_type": "markdown",
   "metadata": {
    "button": false,
    "new_sheet": false,
    "run_control": {
     "read_only": false
    }
   },
   "source": [
    "#### Convolutional Layer 4"
   ]
  },
  {
   "cell_type": "raw",
   "metadata": {
    "button": false,
    "collapsed": true,
    "new_sheet": false,
    "run_control": {
     "read_only": false
    }
   },
   "source": [
    "W_conv4 = tf.Variable(tf.truncated_normal([5, 5, 128, 256], stddev=0.1))\n",
    "b_conv4 = tf.Variable(tf.constant(0.1, shape=[256])) #need 64 biases for 64 outputs\n",
    "convolve4= tf.nn.conv2d(conv3, W_conv4, strides=[1, 1, 1, 1], padding='SAME')+ b_conv4\n",
    "h_conv4 = tf.nn.relu(convolve4)\n",
    "conv4 = tf.nn.max_pool(h_conv4, ksize=[1, 2, 2, 1], strides=[1, 2, 2, 1], padding='SAME') #max_pool_2x2"
   ]
  },
  {
   "cell_type": "markdown",
   "metadata": {
    "button": false,
    "new_sheet": false,
    "run_control": {
     "read_only": false
    }
   },
   "source": [
    "#### Fully Connected Layer 1"
   ]
  },
  {
   "cell_type": "code",
   "execution_count": 12,
   "metadata": {
    "button": false,
    "new_sheet": false,
    "run_control": {
     "read_only": false
    }
   },
   "outputs": [
    {
     "data": {
      "text/plain": [
       "[None, 8, 16, 64]"
      ]
     },
     "execution_count": 12,
     "metadata": {},
     "output_type": "execute_result"
    }
   ],
   "source": [
    "input_layer = conv2\n",
    "dim = input_layer.get_shape().as_list()\n",
    "dim"
   ]
  },
  {
   "cell_type": "code",
   "execution_count": 13,
   "metadata": {
    "button": false,
    "new_sheet": false,
    "run_control": {
     "read_only": false
    }
   },
   "outputs": [
    {
     "data": {
      "text/plain": [
       "<tf.Tensor 'Relu_2:0' shape=(?, 1024) dtype=float32>"
      ]
     },
     "execution_count": 13,
     "metadata": {},
     "output_type": "execute_result"
    }
   ],
   "source": [
    "dims= dim[1]*dim[2]*dim[3]\n",
    "nodes1 = 1024\n",
    "prv_layer_matrix = tf.reshape(input_layer, [-1, dims])\n",
    "W_fc1 = tf.Variable(tf.truncated_normal([dims, nodes1], stddev=0.1))\n",
    "b_fc1 = tf.Variable(tf.constant(0.1, shape=[nodes1])) # need 1024 biases for 1024 outputs\n",
    "h_fcl1  = tf.matmul(prv_layer_matrix, W_fc1) + b_fc1\n",
    "fc_layer1 = tf.nn.relu(h_fcl1) # ???\n",
    "fc_layer1\n"
   ]
  },
  {
   "cell_type": "markdown",
   "metadata": {
    "button": false,
    "new_sheet": false,
    "run_control": {
     "read_only": false
    }
   },
   "source": [
    "#### Droupout 1"
   ]
  },
  {
   "cell_type": "code",
   "execution_count": 14,
   "metadata": {
    "button": false,
    "collapsed": true,
    "new_sheet": false,
    "run_control": {
     "read_only": false
    }
   },
   "outputs": [],
   "source": [
    "keep_prob = tf.placeholder(tf.float32)\n",
    "layer_drop1 = tf.nn.dropout(fc_layer1, keep_prob)"
   ]
  },
  {
   "cell_type": "markdown",
   "metadata": {
    "button": false,
    "new_sheet": false,
    "run_control": {
     "read_only": false
    }
   },
   "source": [
    "#### Fully Connected Layer 2"
   ]
  },
  {
   "cell_type": "raw",
   "metadata": {
    "button": false,
    "new_sheet": false,
    "run_control": {
     "read_only": false
    }
   },
   "source": [
    "nodes2 = 256\n",
    "W_fc2 = tf.Variable(tf.truncated_normal([layer_drop1.get_shape().as_list()[1], nodes2], stddev=0.1))\n",
    "b_fc2 = tf.Variable(tf.constant(0.1, shape=[nodes2])) \n",
    "h_fcl2  = tf.matmul(layer_drop1, W_fc2) + b_fc2\n",
    "fc_layer2 = tf.nn.relu(h_fcl2) # ???\n",
    "fc_layer2"
   ]
  },
  {
   "cell_type": "markdown",
   "metadata": {
    "button": false,
    "new_sheet": false,
    "run_control": {
     "read_only": false
    }
   },
   "source": [
    "#### Droupout 2"
   ]
  },
  {
   "cell_type": "raw",
   "metadata": {
    "button": false,
    "collapsed": true,
    "new_sheet": false,
    "run_control": {
     "read_only": false
    }
   },
   "source": [
    "layer_drop2 = tf.nn.dropout(fc_layer2, keep_prob)"
   ]
  },
  {
   "cell_type": "markdown",
   "metadata": {
    "button": false,
    "new_sheet": false,
    "run_control": {
     "read_only": false
    }
   },
   "source": [
    "#### Readout Layer"
   ]
  },
  {
   "cell_type": "code",
   "execution_count": 15,
   "metadata": {
    "button": false,
    "collapsed": true,
    "new_sheet": false,
    "run_control": {
     "read_only": false
    }
   },
   "outputs": [],
   "source": [
    "W_fc = tf.Variable(tf.truncated_normal([nodes1, n_classes], stddev=0.1)) #1024 neurons\n",
    "b_fc = tf.Variable(tf.constant(0.1, shape=[n_classes])) # 10 possibilities for classes [0,1,2,3]\n",
    "fc = tf.matmul(layer_drop1, W_fc) + b_fc\n",
    "y_CNN= tf.nn.softmax(fc)"
   ]
  },
  {
   "cell_type": "markdown",
   "metadata": {
    "button": false,
    "new_sheet": false,
    "run_control": {
     "read_only": false
    }
   },
   "source": [
    "#### Loss function"
   ]
  },
  {
   "cell_type": "code",
   "execution_count": 16,
   "metadata": {
    "button": false,
    "collapsed": true,
    "new_sheet": false,
    "run_control": {
     "read_only": false
    }
   },
   "outputs": [],
   "source": [
    "cross_entropy = tf.reduce_mean(tf.nn.softmax_cross_entropy_with_logits(logits=y_CNN, labels=y_))"
   ]
  },
  {
   "cell_type": "markdown",
   "metadata": {
    "button": false,
    "new_sheet": false,
    "run_control": {
     "read_only": false
    }
   },
   "source": [
    "#### Training\n"
   ]
  },
  {
   "cell_type": "code",
   "execution_count": 17,
   "metadata": {
    "button": false,
    "collapsed": true,
    "new_sheet": false,
    "run_control": {
     "read_only": false
    }
   },
   "outputs": [],
   "source": [
    "# Create a variable to track the global step.\n",
    "global_step = tf.Variable(0, trainable=False)\n",
    "\n",
    "# create learning_decay\n",
    "lr = tf.train.exponential_decay( learning_rate,\n",
    "                                 global_step,\n",
    "                                 decay_steps,\n",
    "                                 decay_rate, staircase=True )"
   ]
  },
  {
   "cell_type": "code",
   "execution_count": 18,
   "metadata": {
    "button": false,
    "collapsed": true,
    "new_sheet": false,
    "run_control": {
     "read_only": false
    }
   },
   "outputs": [],
   "source": [
    "# Use the optimizer to apply the gradients that minimize the loss\n",
    "# (and also increment the global step counter) as a single training step.\n",
    "optimizer = tf.train.GradientDescentOptimizer(lr)\n",
    "\n",
    "train_op = optimizer.minimize(cross_entropy, global_step=global_step)\n",
    "#train_op = tf.train.AdamOptimizer(learning_rate=learning_rate).minimize(cross_entropy)"
   ]
  },
  {
   "cell_type": "markdown",
   "metadata": {
    "button": false,
    "new_sheet": false,
    "run_control": {
     "read_only": false
    }
   },
   "source": [
    "#### Evaluation"
   ]
  },
  {
   "cell_type": "code",
   "execution_count": 19,
   "metadata": {
    "button": false,
    "collapsed": true,
    "new_sheet": false,
    "run_control": {
     "read_only": false
    }
   },
   "outputs": [],
   "source": [
    "correct_prediction = tf.equal(tf.argmax(y_CNN,1), tf.argmax(y_,1))\n",
    "accuracy = tf.reduce_mean(tf.cast(correct_prediction, tf.float32))"
   ]
  },
  {
   "cell_type": "markdown",
   "metadata": {
    "button": false,
    "new_sheet": false,
    "run_control": {
     "read_only": false
    }
   },
   "source": [
    "### Create checkpoint directory"
   ]
  },
  {
   "cell_type": "code",
   "execution_count": 20,
   "metadata": {
    "button": false,
    "collapsed": true,
    "new_sheet": false,
    "run_control": {
     "read_only": false
    }
   },
   "outputs": [],
   "source": [
    "directory = os.path.dirname(chk_directory)\n",
    "try:\n",
    "    os.stat(directory)\n",
    "    ckpt = tf.train.get_checkpoint_state(chk_directory)\n",
    "    print ckpt\n",
    "except:\n",
    "    os.mkdir(directory) "
   ]
  },
  {
   "cell_type": "markdown",
   "metadata": {
    "button": false,
    "new_sheet": false,
    "run_control": {
     "read_only": false
    }
   },
   "source": [
    "## Training"
   ]
  },
  {
   "cell_type": "code",
   "execution_count": 21,
   "metadata": {
    "button": false,
    "collapsed": true,
    "new_sheet": false,
    "run_control": {
     "read_only": false
    }
   },
   "outputs": [],
   "source": [
    "# Initializing the variables\n",
    "init = tf.global_variables_initializer()"
   ]
  },
  {
   "cell_type": "code",
   "execution_count": 22,
   "metadata": {
    "button": false,
    "new_sheet": false,
    "run_control": {
     "read_only": false
    }
   },
   "outputs": [
    {
     "name": "stdout",
     "output_type": "stream",
     "text": [
      "Epoch: 0001 , Epoch time= 5.73316 , lr= 0.005000000 , cost= 1.472581346 , Acc= 0.251785704\n",
      "Epoch: 0002 , Epoch time= 3.10942 , lr= 0.005000000 , cost= 1.493209971 , Acc= 0.249999992\n",
      "Epoch: 0003 , Epoch time= 3.10705 , lr= 0.005000000 , cost= 1.496168388 , Acc= 0.247499993\n",
      "Epoch: 0004 , Epoch time= 3.11653 , lr= 0.005000000 , cost= 1.490673582 , Acc= 0.250714279\n",
      "Epoch: 0005 , Epoch time= 3.14756 , lr= 0.005000000 , cost= 1.484942492 , Acc= 0.252142848\n",
      "Epoch: 0006 , Epoch time= 3.10891 , lr= 0.005000000 , cost= 1.490040462 , Acc= 0.245714278\n",
      "Epoch: 0007 , Epoch time= 3.12340 , lr= 0.005000000 , cost= 1.476300401 , Acc= 0.251428564\n",
      "Epoch: 0008 , Epoch time= 3.14460 , lr= 0.005000000 , cost= 1.492142920 , Acc= 0.248571420\n",
      "Epoch: 0009 , Epoch time= 3.13457 , lr= 0.005000000 , cost= 1.470588299 , Acc= 0.257142848\n",
      "Epoch: 0010 , Epoch time= 3.16006 , lr= 0.005000000 , cost= 1.476666480 , Acc= 0.257142848\n",
      "Epoch: 0011 , Epoch time= 3.14152 , lr= 0.005000000 , cost= 1.469826773 , Acc= 0.257499992\n",
      "Epoch: 0012 , Epoch time= 3.14248 , lr= 0.005000000 , cost= 1.492099819 , Acc= 0.242857135\n",
      "Epoch: 0013 , Epoch time= 3.14869 , lr= 0.005000000 , cost= 1.491525507 , Acc= 0.252142848\n",
      "Epoch: 0014 , Epoch time= 3.15971 , lr= 0.005000000 , cost= 1.492596933 , Acc= 0.251071421\n",
      "Epoch: 0015 , Epoch time= 3.15371 , lr= 0.005000000 , cost= 1.496882635 , Acc= 0.246785705\n",
      "Epoch: 0016 , Epoch time= 3.17040 , lr= 0.005000000 , cost= 1.503668355 , Acc= 0.239999992\n",
      "Epoch: 0017 , Epoch time= 3.16523 , lr= 0.005000000 , cost= 1.482053148 , Acc= 0.259285706\n",
      "Epoch: 0018 , Epoch time= 3.16193 , lr= 0.004800000 , cost= 1.440256670 , Acc= 0.280357132\n",
      "Epoch: 0019 , Epoch time= 3.18204 , lr= 0.004800000 , cost= 1.472821664 , Acc= 0.256428563\n",
      "Epoch: 0020 , Epoch time= 3.18378 , lr= 0.004800000 , cost= 1.459181151 , Acc= 0.260714276\n",
      "Epoch: 0021 , Epoch time= 3.18624 , lr= 0.004800000 , cost= 1.474014923 , Acc= 0.254999993\n",
      "Epoch: 0022 , Epoch time= 3.19451 , lr= 0.004800000 , cost= 1.441115811 , Acc= 0.275714276\n",
      "Epoch: 0023 , Epoch time= 3.19374 , lr= 0.004800000 , cost= 1.460217199 , Acc= 0.251785706\n",
      "Epoch: 0024 , Epoch time= 3.20265 , lr= 0.004800000 , cost= 1.473376536 , Acc= 0.256071417\n",
      "Epoch: 0025 , Epoch time= 3.21672 , lr= 0.004800000 , cost= 1.440740587 , Acc= 0.279285704\n",
      "Epoch: 0026 , Epoch time= 3.20438 , lr= 0.004800000 , cost= 1.447861197 , Acc= 0.260357133\n",
      "Epoch: 0027 , Epoch time= 3.19708 , lr= 0.004800000 , cost= 1.419597245 , Acc= 0.302142845\n",
      "Epoch: 0028 , Epoch time= 3.21425 , lr= 0.004800000 , cost= 1.430938670 , Acc= 0.296428561\n",
      "Epoch: 0029 , Epoch time= 3.22106 , lr= 0.004800000 , cost= 1.455146941 , Acc= 0.272857135\n",
      "Epoch: 0030 , Epoch time= 3.21310 , lr= 0.004800000 , cost= 1.464242671 , Acc= 0.257857136\n",
      "Epoch: 0031 , Epoch time= 3.21291 , lr= 0.004800000 , cost= 1.424338411 , Acc= 0.278571417\n",
      "Epoch: 0032 , Epoch time= 3.22513 , lr= 0.004800000 , cost= 1.432817023 , Acc= 0.276071419\n",
      "Epoch: 0033 , Epoch time= 3.25072 , lr= 0.004800000 , cost= 1.444685532 , Acc= 0.265357133\n",
      "Epoch: 0034 , Epoch time= 3.24193 , lr= 0.004800000 , cost= 1.415495696 , Acc= 0.265357133\n",
      "Epoch: 0035 , Epoch time= 3.22031 , lr= 0.004800000 , cost= 1.378663187 , Acc= 0.322499988\n",
      "Epoch: 0036 , Epoch time= 3.23038 , lr= 0.004608000 , cost= 1.365652123 , Acc= 0.337142842\n",
      "Epoch: 0037 , Epoch time= 3.25413 , lr= 0.004608000 , cost= 1.364566562 , Acc= 0.332142847\n",
      "Epoch: 0038 , Epoch time= 3.23858 , lr= 0.004608000 , cost= 1.366225398 , Acc= 0.326785702\n",
      "Epoch: 0039 , Epoch time= 3.23459 , lr= 0.004608000 , cost= 1.379704141 , Acc= 0.321785701\n",
      "Epoch: 0040 , Epoch time= 3.22539 , lr= 0.004608000 , cost= 1.348727271 , Acc= 0.362499984\n",
      "Epoch: 0041 , Epoch time= 3.22032 , lr= 0.004608000 , cost= 1.361204831 , Acc= 0.341428558\n",
      "Epoch: 0042 , Epoch time= 3.22669 , lr= 0.004608000 , cost= 1.348561206 , Acc= 0.351785699\n",
      "Epoch: 0043 , Epoch time= 3.21874 , lr= 0.004608000 , cost= 1.357317401 , Acc= 0.344999988\n",
      "Epoch: 0044 , Epoch time= 3.20335 , lr= 0.004608000 , cost= 1.356777879 , Acc= 0.343928557\n",
      "Epoch: 0045 , Epoch time= 3.20531 , lr= 0.004608000 , cost= 1.356788210 , Acc= 0.340357131\n",
      "Epoch: 0046 , Epoch time= 3.18302 , lr= 0.004608000 , cost= 1.351070853 , Acc= 0.324285704\n",
      "Epoch: 0047 , Epoch time= 3.19131 , lr= 0.004608000 , cost= 1.359842884 , Acc= 0.345357130\n",
      "Epoch: 0048 , Epoch time= 3.19502 , lr= 0.004608000 , cost= 1.337590054 , Acc= 0.360714273\n",
      "Epoch: 0049 , Epoch time= 3.18060 , lr= 0.004608000 , cost= 1.349502670 , Acc= 0.358214272\n",
      "Epoch: 0050 , Epoch time= 3.18925 , lr= 0.004608000 , cost= 1.347123287 , Acc= 0.351785702\n",
      "Epoch: 0051 , Epoch time= 3.19044 , lr= 0.004608000 , cost= 1.346578590 , Acc= 0.347499991\n",
      "Epoch: 0052 , Epoch time= 3.18996 , lr= 0.004608000 , cost= 1.337834993 , Acc= 0.369285705\n",
      "Epoch: 0053 , Epoch time= 3.20429 , lr= 0.004608000 , cost= 1.339888341 , Acc= 0.366428562\n",
      "Epoch: 0054 , Epoch time= 3.19077 , lr= 0.004423679 , cost= 1.328347106 , Acc= 0.363928558\n",
      "Epoch: 0055 , Epoch time= 3.16363 , lr= 0.004423679 , cost= 1.347967627 , Acc= 0.336428561\n",
      "Epoch: 0056 , Epoch time= 3.16660 , lr= 0.004423679 , cost= 1.343000231 , Acc= 0.361785698\n",
      "Epoch: 0057 , Epoch time= 3.16660 , lr= 0.004423679 , cost= 1.339851064 , Acc= 0.339285704\n",
      "Epoch: 0058 , Epoch time= 3.17999 , lr= 0.004423679 , cost= 1.329470641 , Acc= 0.369285704\n",
      "Epoch: 0059 , Epoch time= 3.18404 , lr= 0.004423679 , cost= 1.332450873 , Acc= 0.360357131\n",
      "Epoch: 0060 , Epoch time= 3.18620 , lr= 0.004423679 , cost= 1.331079257 , Acc= 0.358571416\n",
      "Epoch: 0061 , Epoch time= 3.17108 , lr= 0.004423679 , cost= 1.323300775 , Acc= 0.372142841\n",
      "Epoch: 0062 , Epoch time= 3.16540 , lr= 0.004423679 , cost= 1.313801831 , Acc= 0.383571419\n",
      "Epoch: 0063 , Epoch time= 3.16768 , lr= 0.004423679 , cost= 1.330896441 , Acc= 0.352857134\n",
      "Epoch: 0064 , Epoch time= 3.18154 , lr= 0.004423679 , cost= 1.324914696 , Acc= 0.372142845\n",
      "Epoch: 0065 , Epoch time= 3.19445 , lr= 0.004423679 , cost= 1.324095498 , Acc= 0.379285704\n",
      "Epoch: 0066 , Epoch time= 3.17964 , lr= 0.004423679 , cost= 1.324452113 , Acc= 0.377142844\n",
      "Epoch: 0067 , Epoch time= 3.17753 , lr= 0.004423679 , cost= 1.332362305 , Acc= 0.353928560\n",
      "Epoch: 0068 , Epoch time= 3.17796 , lr= 0.004423679 , cost= 1.309556614 , Acc= 0.377499986\n",
      "Epoch: 0069 , Epoch time= 3.16903 , lr= 0.004423679 , cost= 1.332395502 , Acc= 0.349999987\n",
      "Epoch: 0070 , Epoch time= 3.17761 , lr= 0.004423679 , cost= 1.316875583 , Acc= 0.376428560\n",
      "Epoch: 0071 , Epoch time= 3.17521 , lr= 0.004423679 , cost= 1.329350806 , Acc= 0.363571416\n",
      "Epoch: 0072 , Epoch time= 3.17745 , lr= 0.004246732 , cost= 1.329554266 , Acc= 0.367857129\n",
      "Epoch: 0073 , Epoch time= 3.17278 , lr= 0.004246732 , cost= 1.296005747 , Acc= 0.401785704\n",
      "Epoch: 0074 , Epoch time= 3.18655 , lr= 0.004246732 , cost= 1.294671972 , Acc= 0.401428560\n",
      "Epoch: 0075 , Epoch time= 3.17604 , lr= 0.004246732 , cost= 1.320021800 , Acc= 0.392142846\n",
      "Epoch: 0076 , Epoch time= 3.17101 , lr= 0.004246732 , cost= 1.303317183 , Acc= 0.403214273\n",
      "Epoch: 0077 , Epoch time= 3.17577 , lr= 0.004246732 , cost= 1.299845506 , Acc= 0.384642844\n",
      "Epoch: 0078 , Epoch time= 3.19522 , lr= 0.004246732 , cost= 1.310023772 , Acc= 0.370714275\n",
      "Epoch: 0079 , Epoch time= 3.19582 , lr= 0.004246732 , cost= 1.303582460 , Acc= 0.383214275\n",
      "Epoch: 0080 , Epoch time= 3.21111 , lr= 0.004246732 , cost= 1.294048612 , Acc= 0.401428558\n",
      "Epoch: 0081 , Epoch time= 3.18894 , lr= 0.004246732 , cost= 1.295849149 , Acc= 0.417857132\n",
      "Epoch: 0082 , Epoch time= 3.19641 , lr= 0.004246732 , cost= 1.293408434 , Acc= 0.367857132\n",
      "Epoch: 0083 , Epoch time= 3.18971 , lr= 0.004246732 , cost= 1.292114230 , Acc= 0.402499988\n",
      "Epoch: 0084 , Epoch time= 3.18451 , lr= 0.004246732 , cost= 1.302364053 , Acc= 0.411428559\n",
      "Epoch: 0085 , Epoch time= 3.18555 , lr= 0.004246732 , cost= 1.288540316 , Acc= 0.388928561\n",
      "Epoch: 0086 , Epoch time= 3.19992 , lr= 0.004246732 , cost= 1.294608836 , Acc= 0.392499985\n",
      "Epoch: 0087 , Epoch time= 3.22913 , lr= 0.004246732 , cost= 1.296692984 , Acc= 0.403214277\n",
      "Epoch: 0088 , Epoch time= 3.21821 , lr= 0.004246732 , cost= 1.276950740 , Acc= 0.384285705\n",
      "Epoch: 0089 , Epoch time= 3.19655 , lr= 0.004246732 , cost= 1.308636444 , Acc= 0.390714275\n",
      "Epoch: 0090 , Epoch time= 3.23291 , lr= 0.004076863 , cost= 1.278640615 , Acc= 0.431428561\n",
      "Epoch: 0091 , Epoch time= 3.19457 , lr= 0.004076863 , cost= 1.297379447 , Acc= 0.420714273\n"
     ]
    },
    {
     "name": "stdout",
     "output_type": "stream",
     "text": [
      "Epoch: 0092 , Epoch time= 3.20673 , lr= 0.004076863 , cost= 1.280954778 , Acc= 0.432142843\n",
      "Epoch: 0093 , Epoch time= 3.19300 , lr= 0.004076863 , cost= 1.273394193 , Acc= 0.425714272\n",
      "Epoch: 0094 , Epoch time= 3.19207 , lr= 0.004076863 , cost= 1.254613419 , Acc= 0.471428558\n",
      "Epoch: 0095 , Epoch time= 3.21326 , lr= 0.004076863 , cost= 1.289066153 , Acc= 0.404285704\n",
      "Epoch: 0096 , Epoch time= 3.20969 , lr= 0.004076863 , cost= 1.276693319 , Acc= 0.441785699\n",
      "Epoch: 0097 , Epoch time= 3.22082 , lr= 0.004076863 , cost= 1.288118384 , Acc= 0.397857134\n",
      "Epoch: 0098 , Epoch time= 3.20868 , lr= 0.004076863 , cost= 1.258175318 , Acc= 0.445357124\n",
      "Epoch: 0099 , Epoch time= 3.23232 , lr= 0.004076863 , cost= 1.295647223 , Acc= 0.409642843\n",
      "Epoch: 0100 , Epoch time= 3.21823 , lr= 0.004076863 , cost= 1.271354245 , Acc= 0.444642840\n",
      "Epoch: 0101 , Epoch time= 3.22422 , lr= 0.004076863 , cost= 1.273052554 , Acc= 0.429642845\n",
      "Epoch: 0102 , Epoch time= 3.22031 , lr= 0.004076863 , cost= 1.275086352 , Acc= 0.421428558\n",
      "Epoch: 0103 , Epoch time= 3.23545 , lr= 0.004076863 , cost= 1.254644004 , Acc= 0.448571415\n",
      "Epoch: 0104 , Epoch time= 3.22328 , lr= 0.004076863 , cost= 1.257019801 , Acc= 0.439285707\n",
      "Epoch: 0105 , Epoch time= 3.22586 , lr= 0.004076863 , cost= 1.265164265 , Acc= 0.427857129\n",
      "Epoch: 0106 , Epoch time= 3.23930 , lr= 0.004076863 , cost= 1.273029702 , Acc= 0.406428557\n",
      "Epoch: 0107 , Epoch time= 3.22817 , lr= 0.004076863 , cost= 1.241811923 , Acc= 0.464285701\n",
      "Epoch: 0108 , Epoch time= 3.24188 , lr= 0.003913788 , cost= 1.260764318 , Acc= 0.434999988\n",
      "Epoch: 0109 , Epoch time= 3.23361 , lr= 0.003913788 , cost= 1.238118795 , Acc= 0.466071412\n",
      "Epoch: 0110 , Epoch time= 3.23641 , lr= 0.003913788 , cost= 1.263019308 , Acc= 0.443928554\n",
      "Epoch: 0111 , Epoch time= 3.24597 , lr= 0.003913788 , cost= 1.241950544 , Acc= 0.471071415\n",
      "Epoch: 0112 , Epoch time= 3.23885 , lr= 0.003913788 , cost= 1.244071209 , Acc= 0.459285702\n",
      "Epoch: 0113 , Epoch time= 3.23473 , lr= 0.003913788 , cost= 1.247068573 , Acc= 0.452142842\n",
      "Epoch: 0114 , Epoch time= 3.24448 , lr= 0.003913788 , cost= 1.236397134 , Acc= 0.464285699\n",
      "Epoch: 0115 , Epoch time= 3.24163 , lr= 0.003913788 , cost= 1.245370105 , Acc= 0.462142841\n",
      "Epoch: 0116 , Epoch time= 3.25673 , lr= 0.003913788 , cost= 1.231802623 , Acc= 0.484642839\n",
      "Epoch: 0117 , Epoch time= 3.24892 , lr= 0.003913788 , cost= 1.251146491 , Acc= 0.462142844\n",
      "Epoch: 0118 , Epoch time= 3.25044 , lr= 0.003913788 , cost= 1.224079454 , Acc= 0.501071416\n",
      "Epoch: 0119 , Epoch time= 3.24824 , lr= 0.003913788 , cost= 1.253162039 , Acc= 0.451071416\n",
      "Epoch: 0120 , Epoch time= 3.26892 , lr= 0.003913788 , cost= 1.247322953 , Acc= 0.457142846\n",
      "Epoch: 0121 , Epoch time= 3.27511 , lr= 0.003913788 , cost= 1.238103749 , Acc= 0.457857125\n",
      "Epoch: 0122 , Epoch time= 3.26407 , lr= 0.003913788 , cost= 1.241446227 , Acc= 0.473571415\n",
      "Epoch: 0123 , Epoch time= 3.26054 , lr= 0.003913788 , cost= 1.232364601 , Acc= 0.484999986\n",
      "Epoch: 0124 , Epoch time= 3.25942 , lr= 0.003913788 , cost= 1.249576153 , Acc= 0.428571413\n",
      "Epoch: 0125 , Epoch time= 3.24665 , lr= 0.003757237 , cost= 1.230407906 , Acc= 0.487499983\n",
      "Epoch: 0126 , Epoch time= 3.23585 , lr= 0.003757237 , cost= 1.208215030 , Acc= 0.494642843\n",
      "Epoch: 0127 , Epoch time= 3.24133 , lr= 0.003757237 , cost= 1.223560440 , Acc= 0.487499989\n",
      "Epoch: 0128 , Epoch time= 3.26875 , lr= 0.003757237 , cost= 1.212148669 , Acc= 0.498214275\n",
      "Epoch: 0129 , Epoch time= 3.25236 , lr= 0.003757237 , cost= 1.210484500 , Acc= 0.498928554\n",
      "Epoch: 0130 , Epoch time= 3.27142 , lr= 0.003757237 , cost= 1.218560960 , Acc= 0.481428557\n",
      "Epoch: 0131 , Epoch time= 3.26136 , lr= 0.003757237 , cost= 1.215468913 , Acc= 0.497499988\n",
      "Epoch: 0132 , Epoch time= 3.26484 , lr= 0.003757237 , cost= 1.210012251 , Acc= 0.495357129\n",
      "Epoch: 0133 , Epoch time= 3.25018 , lr= 0.003757237 , cost= 1.224705128 , Acc= 0.487499989\n",
      "Epoch: 0134 , Epoch time= 3.26022 , lr= 0.003757237 , cost= 1.210696527 , Acc= 0.503928557\n",
      "Epoch: 0135 , Epoch time= 3.26533 , lr= 0.003757237 , cost= 1.204639780 , Acc= 0.508928557\n",
      "Epoch: 0136 , Epoch time= 3.28114 , lr= 0.003757237 , cost= 1.220342144 , Acc= 0.477142839\n",
      "Epoch: 0137 , Epoch time= 3.24492 , lr= 0.003757237 , cost= 1.204516355 , Acc= 0.502857124\n",
      "Epoch: 0138 , Epoch time= 3.23086 , lr= 0.003757237 , cost= 1.215197778 , Acc= 0.482857128\n",
      "Epoch: 0139 , Epoch time= 3.23179 , lr= 0.003757237 , cost= 1.202171794 , Acc= 0.503571412\n",
      "Epoch: 0140 , Epoch time= 3.25151 , lr= 0.003757237 , cost= 1.206456127 , Acc= 0.507142842\n",
      "Epoch: 0141 , Epoch time= 3.23962 , lr= 0.003757237 , cost= 1.204565849 , Acc= 0.495357128\n",
      "Epoch: 0142 , Epoch time= 3.25021 , lr= 0.003757237 , cost= 1.210414574 , Acc= 0.498928556\n",
      "Epoch: 0143 , Epoch time= 3.24261 , lr= 0.003606947 , cost= 1.193147619 , Acc= 0.523928553\n",
      "Epoch: 0144 , Epoch time= 3.23892 , lr= 0.003606947 , cost= 1.196874714 , Acc= 0.522499984\n",
      "Epoch: 0145 , Epoch time= 3.23899 , lr= 0.003606947 , cost= 1.192636709 , Acc= 0.518571418\n",
      "Epoch: 0146 , Epoch time= 3.23189 , lr= 0.003606947 , cost= 1.197834790 , Acc= 0.517142841\n",
      "Epoch: 0147 , Epoch time= 3.23860 , lr= 0.003606947 , cost= 1.199996848 , Acc= 0.499285700\n",
      "Epoch: 0148 , Epoch time= 3.21998 , lr= 0.003606947 , cost= 1.167342744 , Acc= 0.557142842\n",
      "Epoch: 0149 , Epoch time= 3.23322 , lr= 0.003606947 , cost= 1.192317639 , Acc= 0.524285704\n",
      "Epoch: 0150 , Epoch time= 3.22784 , lr= 0.003606947 , cost= 1.203452172 , Acc= 0.495714269\n",
      "Epoch: 0151 , Epoch time= 3.24040 , lr= 0.003606947 , cost= 1.194709952 , Acc= 0.519999985\n",
      "Epoch: 0152 , Epoch time= 3.24428 , lr= 0.003606947 , cost= 1.194833736 , Acc= 0.523214270\n",
      "Epoch: 0153 , Epoch time= 3.23344 , lr= 0.003606947 , cost= 1.177446076 , Acc= 0.548928554\n",
      "Epoch: 0154 , Epoch time= 3.24745 , lr= 0.003606947 , cost= 1.177059647 , Acc= 0.532142844\n",
      "Epoch: 0155 , Epoch time= 3.22849 , lr= 0.003606947 , cost= 1.178784377 , Acc= 0.532857127\n",
      "Epoch: 0156 , Epoch time= 3.22717 , lr= 0.003606947 , cost= 1.175831641 , Acc= 0.544999988\n",
      "Epoch: 0157 , Epoch time= 3.23327 , lr= 0.003606947 , cost= 1.172733450 , Acc= 0.539999990\n",
      "Epoch: 0158 , Epoch time= 3.22300 , lr= 0.003606947 , cost= 1.180840867 , Acc= 0.527857130\n",
      "Epoch: 0159 , Epoch time= 3.23250 , lr= 0.003606947 , cost= 1.175097600 , Acc= 0.532142841\n",
      "Epoch: 0160 , Epoch time= 3.22178 , lr= 0.003606947 , cost= 1.151545336 , Acc= 0.562857130\n",
      "Epoch: 0161 , Epoch time= 3.24765 , lr= 0.003462669 , cost= 1.174023820 , Acc= 0.539285697\n",
      "Epoch: 0162 , Epoch time= 3.24022 , lr= 0.003462669 , cost= 1.179302465 , Acc= 0.533214269\n",
      "Epoch: 0163 , Epoch time= 3.25119 , lr= 0.003462669 , cost= 1.169276099 , Acc= 0.531428556\n",
      "Epoch: 0164 , Epoch time= 3.24282 , lr= 0.003462669 , cost= 1.178168874 , Acc= 0.533214269\n",
      "Epoch: 0165 , Epoch time= 3.23365 , lr= 0.003462669 , cost= 1.144333746 , Acc= 0.583928553\n",
      "Epoch: 0166 , Epoch time= 3.23028 , lr= 0.003462669 , cost= 1.167477931 , Acc= 0.546785700\n",
      "Epoch: 0167 , Epoch time= 3.21900 , lr= 0.003462669 , cost= 1.157804836 , Acc= 0.560714273\n",
      "Epoch: 0168 , Epoch time= 3.23906 , lr= 0.003462669 , cost= 1.163650025 , Acc= 0.562857126\n",
      "Epoch: 0169 , Epoch time= 3.23370 , lr= 0.003462669 , cost= 1.155492840 , Acc= 0.558571417\n",
      "Epoch: 0170 , Epoch time= 3.24447 , lr= 0.003462669 , cost= 1.144706629 , Acc= 0.576428557\n",
      "Epoch: 0171 , Epoch time= 3.24202 , lr= 0.003462669 , cost= 1.146378783 , Acc= 0.569285699\n",
      "Epoch: 0172 , Epoch time= 3.23396 , lr= 0.003462669 , cost= 1.163101275 , Acc= 0.550357123\n",
      "Epoch: 0173 , Epoch time= 3.23043 , lr= 0.003462669 , cost= 1.162482356 , Acc= 0.553928559\n",
      "Epoch: 0174 , Epoch time= 3.22402 , lr= 0.003462669 , cost= 1.120299423 , Acc= 0.609285695\n",
      "Epoch: 0175 , Epoch time= 3.23039 , lr= 0.003462669 , cost= 1.160650083 , Acc= 0.547857122\n",
      "Epoch: 0176 , Epoch time= 3.25803 , lr= 0.003462669 , cost= 1.138202186 , Acc= 0.576071412\n",
      "Epoch: 0177 , Epoch time= 3.26221 , lr= 0.003462669 , cost= 1.135235406 , Acc= 0.579642839\n",
      "Epoch: 0178 , Epoch time= 3.26552 , lr= 0.003462669 , cost= 1.144398628 , Acc= 0.564642843\n",
      "Epoch: 0179 , Epoch time= 3.23381 , lr= 0.003324162 , cost= 1.154984857 , Acc= 0.552857129\n",
      "Epoch: 0180 , Epoch time= 3.24111 , lr= 0.003324162 , cost= 1.123790080 , Acc= 0.591428557\n",
      "Epoch: 0181 , Epoch time= 3.23309 , lr= 0.003324162 , cost= 1.140505378 , Acc= 0.583214267\n",
      "Epoch: 0182 , Epoch time= 3.22804 , lr= 0.003324162 , cost= 1.128481177 , Acc= 0.584642840\n"
     ]
    },
    {
     "name": "stdout",
     "output_type": "stream",
     "text": [
      "Epoch: 0183 , Epoch time= 3.23333 , lr= 0.003324162 , cost= 1.140554639 , Acc= 0.576428554\n",
      "Epoch: 0184 , Epoch time= 3.22250 , lr= 0.003324162 , cost= 1.116410206 , Acc= 0.609642846\n",
      "Epoch: 0185 , Epoch time= 3.24983 , lr= 0.003324162 , cost= 1.143819648 , Acc= 0.566428557\n",
      "Epoch: 0186 , Epoch time= 3.23771 , lr= 0.003324162 , cost= 1.116457007 , Acc= 0.609999984\n",
      "Epoch: 0187 , Epoch time= 3.22578 , lr= 0.003324162 , cost= 1.124123169 , Acc= 0.596071414\n",
      "Epoch: 0188 , Epoch time= 3.22800 , lr= 0.003324162 , cost= 1.129657918 , Acc= 0.576785699\n",
      "Epoch: 0189 , Epoch time= 3.24936 , lr= 0.003324162 , cost= 1.125935653 , Acc= 0.588214269\n",
      "Epoch: 0190 , Epoch time= 3.24245 , lr= 0.003324162 , cost= 1.130044471 , Acc= 0.595714270\n",
      "Epoch: 0191 , Epoch time= 3.25784 , lr= 0.003324162 , cost= 1.111718526 , Acc= 0.604285696\n",
      "Epoch: 0192 , Epoch time= 3.24001 , lr= 0.003324162 , cost= 1.133696066 , Acc= 0.588571415\n",
      "Epoch: 0193 , Epoch time= 3.23585 , lr= 0.003324162 , cost= 1.114507504 , Acc= 0.608571411\n",
      "Epoch: 0194 , Epoch time= 3.23580 , lr= 0.003324162 , cost= 1.113585266 , Acc= 0.601428554\n",
      "Epoch: 0195 , Epoch time= 3.25474 , lr= 0.003324162 , cost= 1.118661277 , Acc= 0.601428555\n",
      "Epoch: 0196 , Epoch time= 3.24281 , lr= 0.003324162 , cost= 1.123470319 , Acc= 0.595714272\n",
      "Epoch: 0197 , Epoch time= 3.23144 , lr= 0.003191196 , cost= 1.112379291 , Acc= 0.598928554\n",
      "Epoch: 0198 , Epoch time= 3.23124 , lr= 0.003191196 , cost= 1.103710247 , Acc= 0.604642842\n",
      "Epoch: 0199 , Epoch time= 3.25089 , lr= 0.003191196 , cost= 1.124029813 , Acc= 0.591428559\n",
      "Epoch: 0200 , Epoch time= 3.24312 , lr= 0.003191196 , cost= 1.106981622 , Acc= 0.612499984\n",
      "Optimization Finished!\n",
      "model saved to /home/fbarilla/SETI/ML4SETI/tutorials/p9_launch/save/model.ckpt\n"
     ]
    }
   ],
   "source": [
    "loss_values = []\n",
    "with tf.Session() as sess:\n",
    "\n",
    "    \n",
    "    X_test = dataset.test.images\n",
    "    y_test = dataset.test.labels\n",
    "    sess.run(init)\n",
    "    saver = tf.train.Saver(tf.global_variables())\n",
    "    \n",
    "    # load previously trained model if appilcable\n",
    "    ckpt = tf.train.get_checkpoint_state(chk_directory)\n",
    "    if ckpt:\n",
    "        print \"loading model: \",ckpt.model_checkpoint_path\n",
    "        #saver.restore(sess, ckpt.model_checkpoint_path)\n",
    "    \n",
    "    \n",
    "    #step = 0\n",
    "    num_examples = dataset.train.num_examples\n",
    "    # Training cycle\n",
    "    for epoch in range(training_epochs):\n",
    "        avg_loss = 0.\n",
    "        avg_accuracy = 0.\n",
    "        #dataset.shuffle_data()\n",
    "        total_batch = int(num_examples / batch_size)\n",
    "\n",
    "        # Loop over all batches\n",
    "        start = time.time()\n",
    "        for step in range(total_batch):\n",
    "            x_batch, y_batch = dataset.train.next_batch(batch_size,shuffle=True)\n",
    "            train_op.run(feed_dict={x: x_batch, y_: y_batch, keep_prob: dropout})\n",
    "            loss, acc = sess.run([cross_entropy, accuracy], feed_dict={x: x_batch,y_: y_batch,keep_prob: 1.})\n",
    "            \n",
    "            avg_loss += loss / total_batch\n",
    "            avg_accuracy += acc / total_batch\n",
    "            if step % display_step == 1000:\n",
    "\n",
    "                \n",
    "                # Calculate batch loss and accuracy\n",
    "                loss, acc = sess.run([cross_entropy, accuracy], feed_dict={x: x_batch,y_: y_batch,keep_prob: 1.})\n",
    "                #train_accuracy = accuracy.eval(feed_dict={x:x_batch, y_: y_batch,  keep_prob: 0.5})\n",
    "\n",
    "                test_accuracy = sess.run(accuracy, feed_dict={x: X_test[0:100], y_: y_test[0:100], keep_prob: 1.})\n",
    "\n",
    "                print(\"Iter \" + str(step) + \\\n",
    "                    \", Minibatch Loss= \" +  \"{:.6f}\".format(loss) +  \\\n",
    "                    \", Training Accuracy= \" + \"{:.5f}\".format(acc)  + \\\n",
    "                    \", Test Accuracy= \" + \"{:.5f}\".format(test_accuracy) )\n",
    "        \n",
    "        # save model every 1 epochs\n",
    "        if epoch >= 0 and epoch % 1 == 0:\n",
    "            # Save model\n",
    "            #print (\"model saved to {}\".format(checkpoint_path))\n",
    "            #saver.save(sess, checkpoint_path, global_step = epoch)\n",
    "            end = time.time()\n",
    "            plr = sess.run(lr)\n",
    "            loss_values.append(avg_loss)\n",
    "            #print(sess.run(tf.train.global_step()))\n",
    "            print \"Epoch:\", '%04d' % (epoch+1) , \", Epoch time=\" , \"{:.5f}\".format(end - start) , \", lr=\", \"{:.9f}\".format(plr), \", cost=\", \"{:.9f}\".format(avg_loss) ,\", Acc=\", \"{:.9f}\".format(avg_accuracy)\n",
    "\n",
    "    print(\"Optimization Finished!\")\n",
    "    print (\"model saved to {}\".format(checkpoint_path))\n",
    "    saver.save(sess, checkpoint_path, global_step = (epoch+1)*step)\n",
    "\n",
    "    \n",
    "    \n",
    "    # Calculate accuracy for test images\n",
    "    #print(\"Testing Accuracy:\", sess.run(accuracy, feed_dict={x: X_test[0:30], y_: y_test[0:30], keep_prob: 1.}))\n",
    "        \n",
    "    # Find the labels of test set\n",
    "    y_pred_lb = sess.run(tf.argmax(y_CNN,1), feed_dict={x: X_test[0:100], y_: y_test[0:100], keep_prob: 1.})\n",
    "    y_pred = sess.run(y_CNN, feed_dict={x: X_test[0:100], y_: y_test[0:100], keep_prob: 1.})\n",
    "    \n",
    "    # lets save kernels\n",
    "    kernels_l1 = sess.run(tf.reshape(tf.transpose(W_conv1, perm=[2, 3, 0, 1]),[32,-1]))\n",
    "    kernels_l2 = sess.run(tf.reshape(tf.transpose(W_conv2, perm=[2, 3, 0, 1]),[32*64,-1]))"
   ]
  },
  {
   "cell_type": "code",
   "execution_count": 23,
   "metadata": {
    "button": false,
    "new_sheet": false,
    "run_control": {
     "read_only": false
    }
   },
   "outputs": [
    {
     "data": {
      "image/png": "[encoded data removed]",
      "text/plain": [
       "<matplotlib.figure.Figure at 0x3fff8d5231d0>"
      ]
     },
     "metadata": {},
     "output_type": "display_data"
    }
   ],
   "source": [
    "%matplotlib inline\n",
    "import numpy as np\n",
    "import matplotlib.pyplot as plt\n",
    "plt.plot([np.mean(loss_values[i:i+5]) for i in range(len(loss_values))])\n",
    "plt.show()\n"
   ]
  },
  {
   "cell_type": "markdown",
   "metadata": {
    "button": false,
    "new_sheet": false,
    "run_control": {
     "read_only": false
    }
   },
   "source": [
    "## Evaluation"
   ]
  },
  {
   "cell_type": "markdown",
   "metadata": {},
   "source": [
    "Accuracy is depend on the number of epoch that you set in partametrs part."
   ]
  },
  {
   "cell_type": "code",
   "execution_count": 24,
   "metadata": {
    "button": false,
    "new_sheet": false,
    "run_control": {
     "read_only": false
    }
   },
   "outputs": [
    {
     "name": "stdout",
     "output_type": "stream",
     "text": [
      "             precision    recall  f1-score   support\n",
      "\n",
      "          0       0.77      0.43      0.56        23\n",
      "          1       1.00      0.24      0.39        33\n",
      "          2       0.00      0.00      0.00         0\n",
      "          3       0.94      1.00      0.97        44\n",
      "\n",
      "avg / total       0.92      0.62      0.68       100\n",
      "\n",
      "[[10  0 10  3]\n",
      " [ 3  8 22  0]\n",
      " [ 0  0  0  0]\n",
      " [ 0  0  0 44]]\n",
      "Classification accuracy: 0.620000\n",
      "Log Loss: 0.889025\n"
     ]
    },
    {
     "name": "stderr",
     "output_type": "stream",
     "text": [
      "/root/anaconda2/lib/python2.7/site-packages/sklearn/metrics/classification.py:1115: UndefinedMetricWarning: Recall and F-score are ill-defined and being set to 0.0 in labels with no true samples.\n",
      "  'recall', 'true', average, warn_for)\n"
     ]
    }
   ],
   "source": [
    "y_ = np.argmax(y_test[0:100],1) # ground truth\n",
    "print metrics.classification_report(y_true= y_, y_pred= y_pred_lb)\n",
    "print metrics.confusion_matrix(y_true= y_, y_pred= y_pred_lb)\n",
    "print(\"Classification accuracy: %0.6f\" % metrics.accuracy_score(y_true= y_, y_pred= y_pred_lb) )\n",
    "print(\"Log Loss: %0.6f\" % metrics.log_loss(y_true= y_, y_pred= y_pred, labels=range(4)) )"
   ]
  },
  {
   "cell_type": "markdown",
   "metadata": {},
   "source": [
    "# Generate CSV file for Scoreboard\n",
    "\n",
    "Here's an example of what the CSV file should look like for submission to the scoreboard. Although, in this case, we only have 4 classes instead of 7.\n",
    "\n",
    "#### NOTE: This uses the test set created in Step_5c, which only contain the BASIC4 test data set. The code challenge and hackathon will be based on the Primary Data Set which contains 7 signal classes, and different test set."
   ]
  },
  {
   "cell_type": "code",
   "execution_count": 25,
   "metadata": {
    "collapsed": true
   },
   "outputs": [],
   "source": [
    "my_output_results = mydatafolder + '/' + 'DL_scores.csv'\n",
    "with open(my_output_results, 'w') as csvfile:\n",
    "    np.savetxt(my_output_results, y_pred, delimiter=\",\")"
   ]
  },
  {
   "cell_type": "code",
   "execution_count": 26,
   "metadata": {},
   "outputs": [
    {
     "name": "stdout",
     "output_type": "stream",
     "text": [
      "total 20\n",
      "drwxr-xr-x 3 root root  4096 Aug  1 18:41 SETI\n",
      "drwxr-xr-x 2 root root  4096 Aug  2 14:28 save\n",
      "-rw-r--r-- 1 root root 10000 Aug  2 14:37 DL_scores.csv\n",
      "\n"
     ]
    }
   ],
   "source": [
    "print os.popen(\"ls -lrt \"+ mydatafolder).read() # to verify"
   ]
  },
  {
   "cell_type": "markdown",
   "metadata": {
    "button": false,
    "new_sheet": false,
    "run_control": {
     "read_only": false
    }
   },
   "source": [
    "### Viz"
   ]
  },
  {
   "cell_type": "code",
   "execution_count": 27,
   "metadata": {
    "button": false,
    "new_sheet": false,
    "run_control": {
     "read_only": false
    }
   },
   "outputs": [
    {
     "name": "stdout",
     "output_type": "stream",
     "text": [
      "--2017-08-02 14:37:45--  http://deeplearning.net/tutorial/code/utils.py\n",
      "Resolving deeplearning.net (deeplearning.net)... 132.204.26.28\n",
      "Connecting to deeplearning.net (deeplearning.net)|132.204.26.28|:80... connected.\n",
      "HTTP request sent, awaiting response... 200 OK\n",
      "Length: 5097 (5.0K) [text/plain]\n",
      "Saving to: ‘utils1.py’\n",
      "\n",
      "utils1.py           100%[===================>]   4.98K  --.-KB/s    in 0s      \n",
      "\n",
      "2017-08-02 14:37:46 (941 MB/s) - ‘utils1.py’ saved [5097/5097]\n",
      "\n"
     ]
    }
   ],
   "source": [
    "!wget --output-document utils1.py http://deeplearning.net/tutorial/code/utils.py\n",
    "import utils1\n",
    "from utils1 import tile_raster_images"
   ]
  },
  {
   "cell_type": "code",
   "execution_count": 28,
   "metadata": {
    "button": false,
    "new_sheet": false,
    "run_control": {
     "read_only": false
    }
   },
   "outputs": [
    {
     "data": {
      "image/png": "[encoded data removed]",
      "text/plain": [
       "<matplotlib.figure.Figure at 0x3bffc7c49ed0>"
      ]
     },
     "metadata": {},
     "output_type": "display_data"
    }
   ],
   "source": [
    "#from utils import tile_raster_images\n",
    "import matplotlib.pyplot as plt\n",
    "from PIL import Image\n",
    "%matplotlib inline\n",
    "image = Image.fromarray(tile_raster_images(kernels_l1, img_shape=(5, 5) ,tile_shape=(4, 8), tile_spacing=(1, 1)))\n",
    "### Plot image\n",
    "plt.rcParams['figure.figsize'] = (18.0, 18.0)\n",
    "imgplot = plt.imshow(image)\n",
    "imgplot.set_cmap('gray')  "
   ]
  },
  {
   "cell_type": "code",
   "execution_count": 29,
   "metadata": {
    "button": false,
    "new_sheet": false,
    "run_control": {
     "read_only": false
    }
   },
   "outputs": [
    {
     "data": {
      "image/png": "[encoded data removed]",
      "text/plain": [
       "<matplotlib.figure.Figure at 0x3bff7f2fc4d0>"
      ]
     },
     "metadata": {},
     "output_type": "display_data"
    }
   ],
   "source": [
    "image = Image.fromarray(tile_raster_images(kernels_l2, img_shape=(5, 5) ,tile_shape=(4, 12), tile_spacing=(1, 1)))\n",
    "### Plot image\n",
    "plt.rcParams['figure.figsize'] = (18.0, 18.0)\n",
    "imgplot = plt.imshow(image)\n",
    "imgplot.set_cmap('gray')  "
   ]
  },
  {
   "cell_type": "code",
   "execution_count": 30,
   "metadata": {
    "button": false,
    "new_sheet": false,
    "run_control": {
     "read_only": false
    }
   },
   "outputs": [
    {
     "data": {
      "text/plain": [
       "<matplotlib.image.AxesImage at 0x3bff7f2b6650>"
      ]
     },
     "execution_count": 30,
     "metadata": {},
     "output_type": "execute_result"
    },
    {
     "data": {
      "image/png": "[encoded data removed]",
      "text/plain": [
       "<matplotlib.figure.Figure at 0x3bffc7c9ec10>"
      ]
     },
     "metadata": {},
     "output_type": "display_data"
    }
   ],
   "source": [
    "import numpy as np\n",
    "plt.rcParams['figure.figsize'] = (5.0, 5.0)\n",
    "sampleimage1 = X_test[3]\n",
    "plt.imshow(np.reshape(sampleimage1,[64,128]), cmap=\"gray\")"
   ]
  },
  {
   "cell_type": "code",
   "execution_count": 31,
   "metadata": {
    "button": false,
    "new_sheet": false,
    "run_control": {
     "read_only": false
    }
   },
   "outputs": [
    {
     "name": "stdout",
     "output_type": "stream",
     "text": [
      "WARNING:tensorflow:From <ipython-input-31-b4cd738d8ec8>:4: all_variables (from tensorflow.python.ops.variables) is deprecated and will be removed after 2017-03-02.\n",
      "Instructions for updating:\n",
      "Please use tf.global_variables instead.\n",
      "loading model:  /home/fbarilla/SETI/ML4SETI/tutorials/p9_launch/save/model.ckpt-11000\n"
     ]
    },
    {
     "data": {
      "image/png": "[encoded data removed]",
      "text/plain": [
       "<matplotlib.figure.Figure at 0x3fff0531d190>"
      ]
     },
     "metadata": {},
     "output_type": "display_data"
    }
   ],
   "source": [
    "# Launch the graph\n",
    "with tf.Session() as sess:\n",
    "    sess.run(init)\n",
    "    saver = tf.train.Saver(tf.all_variables())\n",
    "    \n",
    "    # load previously trained model if appilcable\n",
    "    ckpt = tf.train.get_checkpoint_state(chk_directory)\n",
    "    if ckpt:\n",
    "        print \"loading model: \",ckpt.model_checkpoint_path\n",
    "        saver.restore(sess, ckpt.model_checkpoint_path)\n",
    "    ActivatedUnits1 = sess.run(convolve1,feed_dict={x:np.reshape(sampleimage1,[1,64*128],order='F'),keep_prob:1.0})\n",
    "    plt.figure(1, figsize=(20,20))\n",
    "    n_columns = 3\n",
    "    n_rows = 3\n",
    "    for i in range(9):\n",
    "        plt.subplot(n_rows, n_columns, i+1)\n",
    "        plt.title('Filter ' + str(i))\n",
    "        plt.imshow(ActivatedUnits1[0,:,:,i], interpolation=\"nearest\", cmap=\"gray\")"
   ]
  },
  {
   "cell_type": "markdown",
   "metadata": {
    "button": false,
    "collapsed": true,
    "new_sheet": false,
    "run_control": {
     "read_only": false
    }
   },
   "source": [
    "### Authors\n",
    "\n",
    "<div class=\"teacher-image\" style=\"    float: left;\n",
    "    width: 115px;\n",
    "    height: 115px;\n",
    "    margin-right: 10px;\n",
    "    margin-bottom: 10px;\n",
    "    border: 1px solid #CCC;\n",
    "    padding: 3px;\n",
    "    border-radius: 3px;\n",
    "    text-align: center;\"><img class=\"alignnone wp-image-2258 \" src=\"https://ibm.box.com/shared/static/tyd41rlrnmfrrk78jx521eb73fljwvv0.jpg\" alt=\"Saeed Aghabozorgi\" width=\"178\" height=\"178\" /></div>\n",
    "#### Saeed Aghabozorgi\n",
    "\n",
    "[Saeed Aghabozorgi](https://ca.linkedin.com/in/saeedaghabozorgi), PhD is Sr. Data Scientist in IBM with a track record of developing enterprise level applications that substantially increases clients’ ability to turn data into actionable knowledge. He is a researcher in data mining field and expert in developing advanced analytic methods like machine learning and statistical modelling on large datasets.</p>\n",
    "\n"
   ]
  },
  {
   "cell_type": "code",
   "execution_count": null,
   "metadata": {
    "button": false,
    "collapsed": true,
    "new_sheet": false,
    "run_control": {
     "read_only": false
    }
   },
   "outputs": [],
   "source": []
  }
 ],
 "metadata": {
  "kernelspec": {
   "display_name": "Python 2",
   "language": "python",
   "name": "python2"
  },
  "language_info": {
   "codemirror_mode": {
    "name": "ipython",
    "version": 2
   },
   "file_extension": ".py",
   "mimetype": "text/x-python",
   "name": "python",
   "nbconvert_exporter": "python",
   "pygments_lexer": "ipython2",
   "version": "2.7.13"
  }
 },
 "nbformat": 4,
 "nbformat_minor": 1
}
